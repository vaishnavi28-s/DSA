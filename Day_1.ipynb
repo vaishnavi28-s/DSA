{
 "cells": [
  {
   "cell_type": "markdown",
   "id": "44574c80-0d9d-4d7b-b7c6-84325e58329b",
   "metadata": {},
   "source": [
    "### Two Sum \n",
    "Given an array of integers nums and an integer target, return indices of the two numbers such that they add up to target.\n",
    "\n",
    "You may assume that each input would have exactly one solution, and you may not use the same element twice.\n",
    "\n",
    "You can return the answer in any order.\n",
    "\n",
    " \n",
    "\n",
    "Example 1:\n",
    "\n",
    "Input: nums = [2,7,11,15], target = 9\n",
    "Output: [0,1]\n",
    "Explanation: Because nums[0] + nums[1] == 9, we return [0, 1].\n",
    "Example 2:\n",
    "\n",
    "Input: nums = [3,2,4], target = 6\n",
    "Output: [1,2]\n",
    "Example 3:\n",
    "\n",
    "Input: nums = [3,3], target = 6\n",
    "Output: [0,1]\n",
    " \n",
    "\n",
    "Constraints:\n",
    "\n",
    "2 <= nums.length <= 104\n",
    "-109 <= nums[i] <= 109\n",
    "-109 <= target <= 109\n",
    "Only one valid answer exists.\n",
    " \n",
    "\n",
    "Follow-up: Can you come up with an algorithm that is less than O(n2) time complexity?"
   ]
  },
  {
   "cell_type": "code",
   "execution_count": null,
   "id": "bf278dc5-0a11-4799-9188-d20101eafb69",
   "metadata": {},
   "outputs": [],
   "source": [
    "#Brute Force\n",
    "class solution:\n",
    "    def twoSum(self, nums:List[int],target:int) -> List[int]:\n",
    "for i in range(len(nums)):\n",
    "    for j in range(len(nums)):\n",
    "        nums[i]+nums[j] == target\n",
    "          return [i,j]"
   ]
  },
  {
   "cell_type": "code",
   "execution_count": null,
   "id": "3e2c1514-5e9c-4a4a-877e-f34715539ca4",
   "metadata": {},
   "outputs": [],
   "source": [
    "#Using Hash Map \n",
    "class solution:\n",
    "    def twoSum(self, nums:List[int],target:int) -> List[int]:\n",
    "        num_to_index = {}\n",
    "        for i, num in enumerate(nums):\n",
    "            complement = target - num\n",
    "            if complement in num_to_index:\n",
    "                return [num_to_index[complement], i]\n",
    "            num_to_index[num] = i"
   ]
  },
  {
   "cell_type": "markdown",
   "id": "a6e70afc-781b-4632-b7f0-c5d44e21994d",
   "metadata": {},
   "source": [
    "Brute Force - O(n^2) Complexity as it runs two loops so does n*n operations\n",
    "Hash Map - O(n) Complexity as we gop through each element only once so time grows lineraly."
   ]
  },
  {
   "cell_type": "code",
   "execution_count": null,
   "id": "4a82fcf6-285d-4287-9d01-0c4872232aa9",
   "metadata": {},
   "outputs": [],
   "source": []
  }
 ],
 "metadata": {
  "kernelspec": {
   "display_name": "Python 3 (ipykernel)",
   "language": "python",
   "name": "python3"
  },
  "language_info": {
   "codemirror_mode": {
    "name": "ipython",
    "version": 3
   },
   "file_extension": ".py",
   "mimetype": "text/x-python",
   "name": "python",
   "nbconvert_exporter": "python",
   "pygments_lexer": "ipython3",
   "version": "3.12.7"
  }
 },
 "nbformat": 4,
 "nbformat_minor": 5
}
