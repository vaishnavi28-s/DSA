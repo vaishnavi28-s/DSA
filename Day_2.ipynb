{
 "cells": [
  {
   "cell_type": "markdown",
   "id": "b2098d6b-f130-4d6a-afa0-17e726fd32c2",
   "metadata": {},
   "source": [
    "### Linked List Removing duplicates\n",
    "\n",
    "Given the head of a sorted linked list, delete all duplicates such that each element appears only once. Return the linked list sorted as well.\n",
    "\n",
    "Example 1:\n",
    "Input: head = [1,1,2]\n",
    "Output: [1,2]\n",
    "\n",
    "Example 2:\n",
    "Input: head = [1,1,2,3,3]\n",
    "Output: [1,2,3]\n",
    " \n",
    "Constraints:\n",
    "The number of nodes in the list is in the range [0, 300].\n",
    "-100 <= Node.val <= 100\n",
    "The list is guaranteed to be sorted in ascending order."
   ]
  },
  {
   "cell_type": "markdown",
   "id": "6b1533bf-924b-419b-ac56-da52a269dc7f",
   "metadata": {},
   "source": [
    "A linked list is a linear data structure where each element (called a node) contains:\n",
    "val: the data.\n",
    "next: a pointer to the next node in the list.\n",
    "It allows dynamic memory allocation and efficient insertions/deletions compared to arrays (no need to shift elements).\n",
    "\n",
    "Since the list is sorted, duplicates will appear next to each other (adjacent nodes). We can take advantage of this by iterating once through the list and comparing each node’s value with the next node’s value.\n",
    "\n",
    "Algo: Iterative Traversal with In-Place Modification\n",
    "This algorithm uses:\n",
    "One pass through a sorted singly linked list\n",
    "Pointer manipulation to remove duplicates\n",
    "No recursion, no extra data structures\n",
    "Because the list is sorted, all duplicates are adjacent, making it efficient to compare and remove them in a single pass."
   ]
  },
  {
   "cell_type": "code",
   "execution_count": null,
   "id": "70b255fa-c04a-4b38-b0c1-4dc92da4e35a",
   "metadata": {},
   "outputs": [],
   "source": [
    "class ListNode:\n",
    "    def __init__(self, val=0, next=None):\n",
    "        self.val= val\n",
    "        self.next = next\n",
    "class Solution:\n",
    "    def deleteDuplicates(self, head:Optional[ListNode]) -> Optional[ListNode]:\n",
    "        current = head #sets a pointer called current to head\n",
    "        while current and current.next:\n",
    "            if current.val == current.next.val:\n",
    "                current.next = current.next.next #skips duplicate\n",
    "            else:\n",
    "                current = current.next #moves to next node\n",
    "        return head              \n",
    "            \n",
    "            "
   ]
  },
  {
   "cell_type": "markdown",
   "id": "ede904ec-78b5-404a-ad0b-047e3439068c",
   "metadata": {},
   "source": [
    "Time Complexity- O(n)\n",
    "Space Complexity - "
   ]
  }
 ],
 "metadata": {
  "kernelspec": {
   "display_name": "Python 3 (ipykernel)",
   "language": "python",
   "name": "python3"
  },
  "language_info": {
   "codemirror_mode": {
    "name": "ipython",
    "version": 3
   },
   "file_extension": ".py",
   "mimetype": "text/x-python",
   "name": "python",
   "nbconvert_exporter": "python",
   "pygments_lexer": "ipython3",
   "version": "3.12.7"
  }
 },
 "nbformat": 4,
 "nbformat_minor": 5
}
